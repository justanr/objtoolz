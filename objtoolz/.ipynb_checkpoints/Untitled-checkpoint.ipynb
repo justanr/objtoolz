{
 "cells": [
  {
   "cell_type": "code",
   "execution_count": 1,
   "metadata": {
    "collapsed": true
   },
   "outputs": [],
   "source": [
    "from objtoolz import method_kwargs_decorator"
   ]
  },
  {
   "cell_type": "code",
   "execution_count": 2,
   "metadata": {
    "collapsed": true
   },
   "outputs": [],
   "source": [
    "class TestDescriptor:\n",
    "    def __init__(self, method):\n",
    "        self._method = method\n",
    "        self._accesses = 0\n",
    "    def __get__(self, inst, cls):\n",
    "        self._accesses += 1\n",
    "        print(\"Accessed: \", self._accesses)\n",
    "        return self._method.__get__(inst, cls)"
   ]
  },
  {
   "cell_type": "code",
   "execution_count": 3,
   "metadata": {
    "collapsed": false
   },
   "outputs": [],
   "source": [
    "class TestCase:\n",
    "    @method_kwargs_decorator\n",
    "    @classmethod\n",
    "    def test_cls(cls, func, **kwargs):\n",
    "        print(\"From cls\")\n",
    "        print(kwargs)\n",
    "        return func\n",
    "    \n",
    "    @method_kwargs_decorator\n",
    "    @staticmethod\n",
    "    def test_static(func, **kwargs):\n",
    "        print(\"From static\")\n",
    "        print(kwargs)\n",
    "        return func\n",
    "    \n",
    "    @method_kwargs_decorator\n",
    "    @TestDescriptor\n",
    "    def test_other(self, func, **kwargs):\n",
    "        print(\"From other\")\n",
    "        print(kwargs)\n",
    "        return func\n",
    "    \n",
    "    @method_kwargs_decorator\n",
    "    def test_inst(self, func, **kwargs):\n",
    "        print(\"From inst\")\n",
    "        print(kwargs)\n",
    "        return func\n",
    "    \n",
    "T = TestCase()"
   ]
  },
  {
   "cell_type": "code",
   "execution_count": 4,
   "metadata": {
    "collapsed": false
   },
   "outputs": [
    {
     "name": "stdout",
     "output_type": "stream",
     "text": [
      "From cls\n",
      "{'derp': 'zerp'}\n",
      "From static\n",
      "{'derp': 'zerp'}\n",
      "From inst\n",
      "{'derp': 'zerp'}\n",
      "Accessed:  1\n",
      "From other\n",
      "{'derp': 'zerp'}\n"
     ]
    }
   ],
   "source": [
    "\n",
    "\n",
    "@T.test_cls(derp='zerp')\n",
    "def derp():\n",
    "    pass\n",
    "\n",
    "@T.test_static(derp='zerp')\n",
    "def herp():\n",
    "    pass\n",
    "\n",
    "@T.test_inst(derp='zerp')\n",
    "def zerp():\n",
    "    pass\n",
    "\n",
    "@T.test_other(derp='zerp')\n",
    "def terp():\n",
    "    pass"
   ]
  },
  {
   "cell_type": "code",
   "execution_count": 5,
   "metadata": {
    "collapsed": true
   },
   "outputs": [],
   "source": [
    "deco = T.test_cls"
   ]
  },
  {
   "cell_type": "code",
   "execution_count": 6,
   "metadata": {
    "collapsed": false
   },
   "outputs": [
    {
     "name": "stdout",
     "output_type": "stream",
     "text": [
      "From cls\n",
      "{'herp': 'nerp'}\n",
      "From cls\n",
      "{'derp': 'zerp'}\n"
     ]
    }
   ],
   "source": [
    "@deco(derp='zerp')\n",
    "@deco(herp='nerp')\n",
    "def zerpzerp():\n",
    "    pass"
   ]
  },
  {
   "cell_type": "code",
   "execution_count": 1,
   "metadata": {
    "collapsed": true
   },
   "outputs": [],
   "source": [
    "from objtoolz import Singleton"
   ]
  },
  {
   "cell_type": "code",
   "execution_count": 2,
   "metadata": {
    "collapsed": true
   },
   "outputs": [],
   "source": [
    "class Mempty(metaclass=Singleton):\n",
    "    pass"
   ]
  },
  {
   "cell_type": "code",
   "execution_count": 3,
   "metadata": {
    "collapsed": true
   },
   "outputs": [],
   "source": [
    "assert Mempty() is Mempty()"
   ]
  },
  {
   "cell_type": "code",
   "execution_count": null,
   "metadata": {
    "collapsed": true
   },
   "outputs": [],
   "source": []
  }
 ],
 "metadata": {
  "kernelspec": {
   "display_name": "Python 3",
   "language": "python",
   "name": "python3"
  },
  "language_info": {
   "codemirror_mode": {
    "name": "ipython",
    "version": 3
   },
   "file_extension": ".py",
   "mimetype": "text/x-python",
   "name": "python",
   "nbconvert_exporter": "python",
   "pygments_lexer": "ipython3",
   "version": "3.4.0"
  }
 },
 "nbformat": 4,
 "nbformat_minor": 0
}
